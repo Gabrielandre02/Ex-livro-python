{
 "cells": [
  {
   "cell_type": "code",
   "execution_count": 2,
   "id": "0d1fee3f",
   "metadata": {},
   "outputs": [
    {
     "name": "stdout",
     "output_type": "stream",
     "text": [
      "Nome:francisco, Idade:43\n"
     ]
    }
   ],
   "source": [
    "nome = 'francisco'\n",
    "idade = 43\n",
    "print(f'Nome:{nome}, Idade:{idade}')"
   ]
  },
  {
   "cell_type": "code",
   "execution_count": 4,
   "id": "ed47be76",
   "metadata": {},
   "outputs": [
    {
     "name": "stdout",
     "output_type": "stream",
     "text": [
      "'s,\"x\", \\\\\n"
     ]
    }
   ],
   "source": [
    "print('\\'s,\\\"x\\\", \\\\\\\\')"
   ]
  },
  {
   "cell_type": "code",
   "execution_count": 5,
   "id": "0852c350",
   "metadata": {},
   "outputs": [
    {
     "name": "stdout",
     "output_type": "stream",
     "text": [
      "Pi= 3.14\n"
     ]
    }
   ],
   "source": [
    "pi = 3.1415926\n",
    "print(f'Pi= {pi:.2f}')"
   ]
  },
  {
   "cell_type": "code",
   "execution_count": 6,
   "id": "42e7005b",
   "metadata": {},
   "outputs": [
    {
     "name": "stdout",
     "output_type": "stream",
     "text": [
      "1.0\n"
     ]
    }
   ],
   "source": [
    "print((5*7)-((6*4)+(20/2)))"
   ]
  },
  {
   "cell_type": "code",
   "execution_count": 8,
   "id": "9216d6a6",
   "metadata": {},
   "outputs": [
    {
     "name": "stdout",
     "output_type": "stream",
     "text": [
      "False\n"
     ]
    }
   ],
   "source": [
    "eh_impar = (57%2==0)\n",
    "print(eh_impar)"
   ]
  },
  {
   "cell_type": "code",
   "execution_count": 11,
   "id": "d9145ba1",
   "metadata": {},
   "outputs": [
    {
     "name": "stdout",
     "output_type": "stream",
     "text": [
      "Digite o valor de a3\n",
      "Digite o valor de b2\n",
      "Digite o valor de c1\n",
      "-8.0\n"
     ]
    }
   ],
   "source": [
    "a = float(input('Digite o valor de a'))\n",
    "b = float(input('Digite o valor de b'))\n",
    "c = float(input('Digite o valor de c'))\n",
    "eq = (b**2)-4*a*c\n",
    "print(eq)"
   ]
  },
  {
   "cell_type": "code",
   "execution_count": 12,
   "id": "dad5768b",
   "metadata": {},
   "outputs": [
    {
     "name": "stdout",
     "output_type": "stream",
     "text": [
      "Digite o valor de a2\n",
      "Digite o valor de b4\n",
      "Digite o valor de c3\n",
      "o resultado de (delta) de a=2.0, b=4.0 e c=3.0 e -8.0\n"
     ]
    }
   ],
   "source": [
    "def delta():\n",
    "    resultado = b**2-4*a*c\n",
    "    return resultado \n",
    "   \n",
    "a = float(input('Digite o valor de a'))\n",
    "b = float(input('Digite o valor de b'))\n",
    "c = float(input('Digite o valor de c'))\n",
    "\n",
    "print(f'o resultado de (delta) de a={a}, b={b} e c={c} e {delta()}')\n",
    "    "
   ]
  },
  {
   "cell_type": "code",
   "execution_count": 13,
   "id": "df81a313",
   "metadata": {},
   "outputs": [
    {
     "name": "stdout",
     "output_type": "stream",
     "text": [
      "palavra= Teste, numero=15 e boleano=True\n"
     ]
    }
   ],
   "source": [
    "palavra = 'Teste'\n",
    "numero = 15\n",
    "boleano = True\n",
    "print()\n",
    "print(f'palavra= {palavra}, numero={numero} e boleano={boleano}')"
   ]
  },
  {
   "cell_type": "code",
   "execution_count": null,
   "id": "02719f09",
   "metadata": {},
   "outputs": [],
   "source": []
  }
 ],
 "metadata": {
  "kernelspec": {
   "display_name": "Python 3 (ipykernel)",
   "language": "python",
   "name": "python3"
  },
  "language_info": {
   "codemirror_mode": {
    "name": "ipython",
    "version": 3
   },
   "file_extension": ".py",
   "mimetype": "text/x-python",
   "name": "python",
   "nbconvert_exporter": "python",
   "pygments_lexer": "ipython3",
   "version": "3.9.7"
  }
 },
 "nbformat": 4,
 "nbformat_minor": 5
}
